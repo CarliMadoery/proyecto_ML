{
 "cells": [
  {
   "cell_type": "markdown",
   "metadata": {},
   "source": [
    "# <h1 align=center> **EDA | SISTEMA DE RECOMENDACIÓN (ML-Model)**</h1>"
   ]
  },
  {
   "cell_type": "markdown",
   "metadata": {},
   "source": [
    "**Para el diseño y modelado del sistema de recomendación se utilizará un enfoque de filtro basado en contenido.**\n",
    "\n",
    "Para esto se realizará un análisis **`items-items`** y se buscará inferir las recomendaciones a partir de similitudes entre ítems aplicando la técnica similitud coseno.\n",
    "\n",
    "Gracias al proceso de ETL y EDA realizado previamente, podemos saber qué datos tenemos a disposición para este enfoque. Y los datos que mejor se adaptan los contiene el dataset que precisamente contiene información relacionada a los juegos: **`steam_games`**\n",
    "\n",
    "A continuación procedemos a realizar un EDA enfocado en este dataframe que deriva de la etapa anterior: *df_games*"
   ]
  },
  {
   "cell_type": "markdown",
   "metadata": {},
   "source": [
    "# EDA df_games"
   ]
  },
  {
   "cell_type": "markdown",
   "metadata": {},
   "source": [
    "El objetivo en esta etapa es reconocer la información más relevante para nuestro modelo de recomendación, por lo cual trataremos de identidicar rapidamente estos campos y avanzaremos en un análisis más exhaustivo sobre ellos"
   ]
  },
  {
   "cell_type": "code",
   "execution_count": 2,
   "metadata": {},
   "outputs": [],
   "source": [
    "# importamos las librerías necesarias\n",
    "import pandas as pd\n",
    "import matplotlib.pyplot as plt\n",
    "import seaborn as sns\n",
    "import ast\n",
    "from sklearn.metrics.pairwise import cosine_similarity"
   ]
  },
  {
   "cell_type": "code",
   "execution_count": 18,
   "metadata": {},
   "outputs": [
    {
     "data": {
      "text/html": [
       "<div>\n",
       "<style scoped>\n",
       "    .dataframe tbody tr th:only-of-type {\n",
       "        vertical-align: middle;\n",
       "    }\n",
       "\n",
       "    .dataframe tbody tr th {\n",
       "        vertical-align: top;\n",
       "    }\n",
       "\n",
       "    .dataframe thead th {\n",
       "        text-align: right;\n",
       "    }\n",
       "</style>\n",
       "<table border=\"1\" class=\"dataframe\">\n",
       "  <thead>\n",
       "    <tr style=\"text-align: right;\">\n",
       "      <th></th>\n",
       "      <th>publisher</th>\n",
       "      <th>genres</th>\n",
       "      <th>app_name</th>\n",
       "      <th>title</th>\n",
       "      <th>url</th>\n",
       "      <th>release_date</th>\n",
       "      <th>tags</th>\n",
       "      <th>reviews_url</th>\n",
       "      <th>discount_price</th>\n",
       "      <th>specs</th>\n",
       "      <th>price</th>\n",
       "      <th>early_access</th>\n",
       "      <th>id</th>\n",
       "      <th>metascore</th>\n",
       "      <th>developer</th>\n",
       "    </tr>\n",
       "  </thead>\n",
       "  <tbody>\n",
       "    <tr>\n",
       "      <th>0</th>\n",
       "      <td>Kotoshiro</td>\n",
       "      <td>['Action', 'Casual', 'Indie', 'Simulation', 'S...</td>\n",
       "      <td>Lost Summoner Kitty</td>\n",
       "      <td>Lost Summoner Kitty</td>\n",
       "      <td>http://store.steampowered.com/app/761140/Lost_...</td>\n",
       "      <td>2018-01-04</td>\n",
       "      <td>['Strategy', 'Action', 'Indie', 'Casual', 'Sim...</td>\n",
       "      <td>http://steamcommunity.com/app/761140/reviews/?...</td>\n",
       "      <td>4.49</td>\n",
       "      <td>['Single-player']</td>\n",
       "      <td>4.99</td>\n",
       "      <td>0.0</td>\n",
       "      <td>761140.0</td>\n",
       "      <td>NaN</td>\n",
       "      <td>Kotoshiro</td>\n",
       "    </tr>\n",
       "    <tr>\n",
       "      <th>1</th>\n",
       "      <td>Making Fun, Inc.</td>\n",
       "      <td>['Free to Play', 'Indie', 'RPG', 'Strategy']</td>\n",
       "      <td>Ironbound</td>\n",
       "      <td>Ironbound</td>\n",
       "      <td>http://store.steampowered.com/app/643980/Ironb...</td>\n",
       "      <td>2018-01-04</td>\n",
       "      <td>['Free to Play', 'Strategy', 'Indie', 'RPG', '...</td>\n",
       "      <td>http://steamcommunity.com/app/643980/reviews/?...</td>\n",
       "      <td>NaN</td>\n",
       "      <td>['Single-player', 'Multi-player', 'Online Mult...</td>\n",
       "      <td>Free To Play</td>\n",
       "      <td>0.0</td>\n",
       "      <td>643980.0</td>\n",
       "      <td>NaN</td>\n",
       "      <td>Secret Level SRL</td>\n",
       "    </tr>\n",
       "    <tr>\n",
       "      <th>2</th>\n",
       "      <td>Poolians.com</td>\n",
       "      <td>['Casual', 'Free to Play', 'Indie', 'Simulatio...</td>\n",
       "      <td>Real Pool 3D - Poolians</td>\n",
       "      <td>Real Pool 3D - Poolians</td>\n",
       "      <td>http://store.steampowered.com/app/670290/Real_...</td>\n",
       "      <td>2017-07-24</td>\n",
       "      <td>['Free to Play', 'Simulation', 'Sports', 'Casu...</td>\n",
       "      <td>http://steamcommunity.com/app/670290/reviews/?...</td>\n",
       "      <td>NaN</td>\n",
       "      <td>['Single-player', 'Multi-player', 'Online Mult...</td>\n",
       "      <td>Free to Play</td>\n",
       "      <td>0.0</td>\n",
       "      <td>670290.0</td>\n",
       "      <td>NaN</td>\n",
       "      <td>Poolians.com</td>\n",
       "    </tr>\n",
       "  </tbody>\n",
       "</table>\n",
       "</div>"
      ],
      "text/plain": [
       "          publisher                                             genres   \n",
       "0         Kotoshiro  ['Action', 'Casual', 'Indie', 'Simulation', 'S...  \\\n",
       "1  Making Fun, Inc.       ['Free to Play', 'Indie', 'RPG', 'Strategy']   \n",
       "2      Poolians.com  ['Casual', 'Free to Play', 'Indie', 'Simulatio...   \n",
       "\n",
       "                  app_name                    title   \n",
       "0      Lost Summoner Kitty      Lost Summoner Kitty  \\\n",
       "1                Ironbound                Ironbound   \n",
       "2  Real Pool 3D - Poolians  Real Pool 3D - Poolians   \n",
       "\n",
       "                                                 url release_date   \n",
       "0  http://store.steampowered.com/app/761140/Lost_...   2018-01-04  \\\n",
       "1  http://store.steampowered.com/app/643980/Ironb...   2018-01-04   \n",
       "2  http://store.steampowered.com/app/670290/Real_...   2017-07-24   \n",
       "\n",
       "                                                tags   \n",
       "0  ['Strategy', 'Action', 'Indie', 'Casual', 'Sim...  \\\n",
       "1  ['Free to Play', 'Strategy', 'Indie', 'RPG', '...   \n",
       "2  ['Free to Play', 'Simulation', 'Sports', 'Casu...   \n",
       "\n",
       "                                         reviews_url  discount_price   \n",
       "0  http://steamcommunity.com/app/761140/reviews/?...            4.49  \\\n",
       "1  http://steamcommunity.com/app/643980/reviews/?...             NaN   \n",
       "2  http://steamcommunity.com/app/670290/reviews/?...             NaN   \n",
       "\n",
       "                                               specs         price   \n",
       "0                                  ['Single-player']          4.99  \\\n",
       "1  ['Single-player', 'Multi-player', 'Online Mult...  Free To Play   \n",
       "2  ['Single-player', 'Multi-player', 'Online Mult...  Free to Play   \n",
       "\n",
       "   early_access        id  metascore         developer  \n",
       "0           0.0  761140.0        NaN         Kotoshiro  \n",
       "1           0.0  643980.0        NaN  Secret Level SRL  \n",
       "2           0.0  670290.0        NaN      Poolians.com  "
      ]
     },
     "execution_count": 18,
     "metadata": {},
     "output_type": "execute_result"
    }
   ],
   "source": [
    "# Leemos el archivo df_games.csv creado en la etapa de ETL\n",
    "df_games = pd.read_csv('df_games.csv')\n",
    "df_games.head(3)"
   ]
  },
  {
   "cell_type": "markdown",
   "metadata": {},
   "source": [
    "Necesitamos contar con datos identificatorios como el id del juego y el nombre, por lo cual sabemos que los campos \"id\" y \"title\" los vamos a ocupar. Veamos entonces con que atributos nos conviene quedarnos para evaluar las similitudes entre los juegos"
   ]
  },
  {
   "cell_type": "code",
   "execution_count": 19,
   "metadata": {},
   "outputs": [
    {
     "name": "stdout",
     "output_type": "stream",
     "text": [
      "<class 'pandas.core.frame.DataFrame'>\n",
      "RangeIndex: 32135 entries, 0 to 32134\n",
      "Data columns (total 15 columns):\n",
      " #   Column          Non-Null Count  Dtype  \n",
      "---  ------          --------------  -----  \n",
      " 0   publisher       24064 non-null  object \n",
      " 1   genres          28852 non-null  object \n",
      " 2   app_name        32133 non-null  object \n",
      " 3   title           30085 non-null  object \n",
      " 4   url             32135 non-null  object \n",
      " 5   release_date    30068 non-null  object \n",
      " 6   tags            31972 non-null  object \n",
      " 7   reviews_url     32133 non-null  object \n",
      " 8   discount_price  225 non-null    float64\n",
      " 9   specs           31465 non-null  object \n",
      " 10  price           30758 non-null  object \n",
      " 11  early_access    32135 non-null  float64\n",
      " 12  id              32133 non-null  float64\n",
      " 13  metascore       2607 non-null   float64\n",
      " 14  developer       28836 non-null  object \n",
      "dtypes: float64(4), object(11)\n",
      "memory usage: 3.7+ MB\n"
     ]
    }
   ],
   "source": [
    "#revisamos la info general\n",
    "df_games.info()"
   ]
  },
  {
   "cell_type": "markdown",
   "metadata": {},
   "source": [
    "Podemos observar que en principio contamos con 32133 juegos (cantidad de id's) "
   ]
  },
  {
   "cell_type": "markdown",
   "metadata": {},
   "source": [
    "Observamos tambien, que contamos con 2 campos que a priori parecen contar con buena información para nuestro modelo, estos son: genres y tags "
   ]
  },
  {
   "cell_type": "code",
   "execution_count": 20,
   "metadata": {},
   "outputs": [
    {
     "data": {
      "text/html": [
       "<div>\n",
       "<style scoped>\n",
       "    .dataframe tbody tr th:only-of-type {\n",
       "        vertical-align: middle;\n",
       "    }\n",
       "\n",
       "    .dataframe tbody tr th {\n",
       "        vertical-align: top;\n",
       "    }\n",
       "\n",
       "    .dataframe thead th {\n",
       "        text-align: right;\n",
       "    }\n",
       "</style>\n",
       "<table border=\"1\" class=\"dataframe\">\n",
       "  <thead>\n",
       "    <tr style=\"text-align: right;\">\n",
       "      <th></th>\n",
       "      <th>id</th>\n",
       "      <th>title</th>\n",
       "      <th>tags</th>\n",
       "      <th>genres</th>\n",
       "    </tr>\n",
       "  </thead>\n",
       "  <tbody>\n",
       "    <tr>\n",
       "      <th>0</th>\n",
       "      <td>761140.0</td>\n",
       "      <td>Lost Summoner Kitty</td>\n",
       "      <td>['Strategy', 'Action', 'Indie', 'Casual', 'Sim...</td>\n",
       "      <td>['Action', 'Casual', 'Indie', 'Simulation', 'S...</td>\n",
       "    </tr>\n",
       "    <tr>\n",
       "      <th>1</th>\n",
       "      <td>643980.0</td>\n",
       "      <td>Ironbound</td>\n",
       "      <td>['Free to Play', 'Strategy', 'Indie', 'RPG', '...</td>\n",
       "      <td>['Free to Play', 'Indie', 'RPG', 'Strategy']</td>\n",
       "    </tr>\n",
       "    <tr>\n",
       "      <th>2</th>\n",
       "      <td>670290.0</td>\n",
       "      <td>Real Pool 3D - Poolians</td>\n",
       "      <td>['Free to Play', 'Simulation', 'Sports', 'Casu...</td>\n",
       "      <td>['Casual', 'Free to Play', 'Indie', 'Simulatio...</td>\n",
       "    </tr>\n",
       "    <tr>\n",
       "      <th>3</th>\n",
       "      <td>767400.0</td>\n",
       "      <td>弹炸人2222</td>\n",
       "      <td>['Action', 'Adventure', 'Casual']</td>\n",
       "      <td>['Action', 'Adventure', 'Casual']</td>\n",
       "    </tr>\n",
       "    <tr>\n",
       "      <th>4</th>\n",
       "      <td>773570.0</td>\n",
       "      <td>NaN</td>\n",
       "      <td>['Action', 'Indie', 'Casual', 'Sports']</td>\n",
       "      <td>NaN</td>\n",
       "    </tr>\n",
       "    <tr>\n",
       "      <th>...</th>\n",
       "      <td>...</td>\n",
       "      <td>...</td>\n",
       "      <td>...</td>\n",
       "      <td>...</td>\n",
       "    </tr>\n",
       "    <tr>\n",
       "      <th>32130</th>\n",
       "      <td>773640.0</td>\n",
       "      <td>Colony On Mars</td>\n",
       "      <td>['Strategy', 'Indie', 'Casual', 'Simulation']</td>\n",
       "      <td>['Casual', 'Indie', 'Simulation', 'Strategy']</td>\n",
       "    </tr>\n",
       "    <tr>\n",
       "      <th>32131</th>\n",
       "      <td>733530.0</td>\n",
       "      <td>LOGistICAL: South Africa</td>\n",
       "      <td>['Strategy', 'Indie', 'Casual']</td>\n",
       "      <td>['Casual', 'Indie', 'Strategy']</td>\n",
       "    </tr>\n",
       "    <tr>\n",
       "      <th>32132</th>\n",
       "      <td>610660.0</td>\n",
       "      <td>Russian Roads</td>\n",
       "      <td>['Indie', 'Simulation', 'Racing']</td>\n",
       "      <td>['Indie', 'Racing', 'Simulation']</td>\n",
       "    </tr>\n",
       "    <tr>\n",
       "      <th>32133</th>\n",
       "      <td>658870.0</td>\n",
       "      <td>EXIT 2 - Directions</td>\n",
       "      <td>['Indie', 'Casual', 'Puzzle', 'Singleplayer', ...</td>\n",
       "      <td>['Casual', 'Indie']</td>\n",
       "    </tr>\n",
       "    <tr>\n",
       "      <th>32134</th>\n",
       "      <td>681550.0</td>\n",
       "      <td>NaN</td>\n",
       "      <td>['Early Access', 'Adventure', 'Indie', 'Action...</td>\n",
       "      <td>NaN</td>\n",
       "    </tr>\n",
       "  </tbody>\n",
       "</table>\n",
       "<p>32135 rows × 4 columns</p>\n",
       "</div>"
      ],
      "text/plain": [
       "             id                     title   \n",
       "0      761140.0       Lost Summoner Kitty  \\\n",
       "1      643980.0                 Ironbound   \n",
       "2      670290.0   Real Pool 3D - Poolians   \n",
       "3      767400.0                   弹炸人2222   \n",
       "4      773570.0                       NaN   \n",
       "...         ...                       ...   \n",
       "32130  773640.0            Colony On Mars   \n",
       "32131  733530.0  LOGistICAL: South Africa   \n",
       "32132  610660.0             Russian Roads   \n",
       "32133  658870.0       EXIT 2 - Directions   \n",
       "32134  681550.0                       NaN   \n",
       "\n",
       "                                                    tags   \n",
       "0      ['Strategy', 'Action', 'Indie', 'Casual', 'Sim...  \\\n",
       "1      ['Free to Play', 'Strategy', 'Indie', 'RPG', '...   \n",
       "2      ['Free to Play', 'Simulation', 'Sports', 'Casu...   \n",
       "3                      ['Action', 'Adventure', 'Casual']   \n",
       "4                ['Action', 'Indie', 'Casual', 'Sports']   \n",
       "...                                                  ...   \n",
       "32130      ['Strategy', 'Indie', 'Casual', 'Simulation']   \n",
       "32131                    ['Strategy', 'Indie', 'Casual']   \n",
       "32132                  ['Indie', 'Simulation', 'Racing']   \n",
       "32133  ['Indie', 'Casual', 'Puzzle', 'Singleplayer', ...   \n",
       "32134  ['Early Access', 'Adventure', 'Indie', 'Action...   \n",
       "\n",
       "                                                  genres  \n",
       "0      ['Action', 'Casual', 'Indie', 'Simulation', 'S...  \n",
       "1           ['Free to Play', 'Indie', 'RPG', 'Strategy']  \n",
       "2      ['Casual', 'Free to Play', 'Indie', 'Simulatio...  \n",
       "3                      ['Action', 'Adventure', 'Casual']  \n",
       "4                                                    NaN  \n",
       "...                                                  ...  \n",
       "32130      ['Casual', 'Indie', 'Simulation', 'Strategy']  \n",
       "32131                    ['Casual', 'Indie', 'Strategy']  \n",
       "32132                  ['Indie', 'Racing', 'Simulation']  \n",
       "32133                                ['Casual', 'Indie']  \n",
       "32134                                                NaN  \n",
       "\n",
       "[32135 rows x 4 columns]"
      ]
     },
     "execution_count": 20,
     "metadata": {},
     "output_type": "execute_result"
    }
   ],
   "source": [
    "df_games = df_games[['id','title','tags','genres']]\n",
    "df_games"
   ]
  },
  {
   "cell_type": "code",
   "execution_count": 21,
   "metadata": {},
   "outputs": [
    {
     "data": {
      "text/plain": [
       "id           2\n",
       "title     2050\n",
       "tags       163\n",
       "genres    3283\n",
       "dtype: int64"
      ]
     },
     "execution_count": 21,
     "metadata": {},
     "output_type": "execute_result"
    }
   ],
   "source": [
    "# Analizamos valores nulos\n",
    "df_games.isnull().sum()"
   ]
  },
  {
   "cell_type": "code",
   "execution_count": 22,
   "metadata": {},
   "outputs": [
    {
     "data": {
      "text/html": [
       "<div>\n",
       "<style scoped>\n",
       "    .dataframe tbody tr th:only-of-type {\n",
       "        vertical-align: middle;\n",
       "    }\n",
       "\n",
       "    .dataframe tbody tr th {\n",
       "        vertical-align: top;\n",
       "    }\n",
       "\n",
       "    .dataframe thead th {\n",
       "        text-align: right;\n",
       "    }\n",
       "</style>\n",
       "<table border=\"1\" class=\"dataframe\">\n",
       "  <thead>\n",
       "    <tr style=\"text-align: right;\">\n",
       "      <th></th>\n",
       "      <th>id</th>\n",
       "      <th>title</th>\n",
       "      <th>tags</th>\n",
       "      <th>genres</th>\n",
       "    </tr>\n",
       "  </thead>\n",
       "  <tbody>\n",
       "    <tr>\n",
       "      <th>74</th>\n",
       "      <td>NaN</td>\n",
       "      <td>NaN</td>\n",
       "      <td>NaN</td>\n",
       "      <td>NaN</td>\n",
       "    </tr>\n",
       "    <tr>\n",
       "      <th>30961</th>\n",
       "      <td>NaN</td>\n",
       "      <td>Batman: Arkham City - Game of the Year Edition</td>\n",
       "      <td>['Action', 'Open World', 'Batman', 'Adventure'...</td>\n",
       "      <td>['Action', 'Adventure']</td>\n",
       "    </tr>\n",
       "  </tbody>\n",
       "</table>\n",
       "</div>"
      ],
      "text/plain": [
       "       id                                           title   \n",
       "74    NaN                                             NaN  \\\n",
       "30961 NaN  Batman: Arkham City - Game of the Year Edition   \n",
       "\n",
       "                                                    tags   \n",
       "74                                                   NaN  \\\n",
       "30961  ['Action', 'Open World', 'Batman', 'Adventure'...   \n",
       "\n",
       "                        genres  \n",
       "74                         NaN  \n",
       "30961  ['Action', 'Adventure']  "
      ]
     },
     "execution_count": 22,
     "metadata": {},
     "output_type": "execute_result"
    }
   ],
   "source": [
    "df_games[df_games.id.isnull()]"
   ]
  },
  {
   "cell_type": "markdown",
   "metadata": {},
   "source": [
    "Vemos con un registro nulo en id contiene el resto de la informacion, sin embargo consultando en el resto de los dataset no se encotro la informacion del id, se eliminan ambos. "
   ]
  },
  {
   "cell_type": "markdown",
   "metadata": {},
   "source": [
    "Oservando los valores nulos en cada campo vemos que no contamos con la cantidad total de los nombres de los juegos, valores que necesitamos para el modelo, lo cual debemos quitar esos registros. Por otra parte en generos contamos con mas faltantes aun que en titulos, lo cual nos haria quedar con menos juegos que los que tenemos y no seria una buena decision en principio"
   ]
  },
  {
   "cell_type": "code",
   "execution_count": 23,
   "metadata": {},
   "outputs": [],
   "source": [
    "# eliminamos nulos de 'title'\n",
    "df_games.dropna(subset=['id','title'], inplace=True)\n",
    "df_games.reset_index(drop=True,inplace=True)"
   ]
  },
  {
   "cell_type": "code",
   "execution_count": 24,
   "metadata": {},
   "outputs": [
    {
     "data": {
      "text/plain": [
       "id           0\n",
       "title        0\n",
       "tags       161\n",
       "genres    1234\n",
       "dtype: int64"
      ]
     },
     "execution_count": 24,
     "metadata": {},
     "output_type": "execute_result"
    }
   ],
   "source": [
    "df_games.isnull().sum()"
   ]
  },
  {
   "cell_type": "code",
   "execution_count": 25,
   "metadata": {},
   "outputs": [],
   "source": [
    "df_games.id = df_games.id.astype(int) #pasamos los valores de id de float a int"
   ]
  },
  {
   "cell_type": "markdown",
   "metadata": {},
   "source": [
    "Analizamos estos campos"
   ]
  },
  {
   "cell_type": "code",
   "execution_count": 29,
   "metadata": {},
   "outputs": [
    {
     "name": "stdout",
     "output_type": "stream",
     "text": [
      "valor tag: ['Strategy', 'Action', 'Indie', 'Casual', 'Simulation'] tipo de dato: <class 'str'>\n",
      "valor genre: ['Action', 'Casual', 'Indie', 'Simulation', 'Strategy'] tipo de dato: <class 'str'>\n"
     ]
    }
   ],
   "source": [
    "print('valor tag:', df_games.tags[0], 'tipo de dato:',type(df_games.tags[0]))\n",
    "print('valor genre:', df_games.genres[0], 'tipo de dato:',type(df_games.genres[0]))"
   ]
  },
  {
   "cell_type": "markdown",
   "metadata": {},
   "source": [
    "Tenemos generos y tags con valores similares. Analizamos con cual nos quedamos para avanzar con el modelo."
   ]
  },
  {
   "cell_type": "code",
   "execution_count": 31,
   "metadata": {},
   "outputs": [
    {
     "data": {
      "text/plain": [
       "False    22438\n",
       "True      7646\n",
       "Name: count, dtype: int64"
      ]
     },
     "execution_count": 31,
     "metadata": {},
     "output_type": "execute_result"
    }
   ],
   "source": [
    "#Contamos cuantos valores similares hay entre ambos\n",
    "conteo = df_games['genres'].eq(df_games['tags']).value_counts()\n",
    "conteo"
   ]
  },
  {
   "cell_type": "markdown",
   "metadata": {},
   "source": [
    "Hay una considerable similitud entre los campos, parece adecuado quedarse con uno solo de ellos. Analicemos ambos campos de manera mas comparativa, para esto resulta adecuado crear un dataframe con solo estos dos campos"
   ]
  },
  {
   "cell_type": "code",
   "execution_count": 38,
   "metadata": {},
   "outputs": [
    {
     "data": {
      "text/html": [
       "<div>\n",
       "<style scoped>\n",
       "    .dataframe tbody tr th:only-of-type {\n",
       "        vertical-align: middle;\n",
       "    }\n",
       "\n",
       "    .dataframe tbody tr th {\n",
       "        vertical-align: top;\n",
       "    }\n",
       "\n",
       "    .dataframe thead th {\n",
       "        text-align: right;\n",
       "    }\n",
       "</style>\n",
       "<table border=\"1\" class=\"dataframe\">\n",
       "  <thead>\n",
       "    <tr style=\"text-align: right;\">\n",
       "      <th></th>\n",
       "      <th>tags</th>\n",
       "      <th>genres</th>\n",
       "    </tr>\n",
       "  </thead>\n",
       "  <tbody>\n",
       "    <tr>\n",
       "      <th>0</th>\n",
       "      <td>['Strategy', 'Action', 'Indie', 'Casual', 'Sim...</td>\n",
       "      <td>['Action', 'Casual', 'Indie', 'Simulation', 'S...</td>\n",
       "    </tr>\n",
       "    <tr>\n",
       "      <th>1</th>\n",
       "      <td>['Free to Play', 'Strategy', 'Indie', 'RPG', '...</td>\n",
       "      <td>['Free to Play', 'Indie', 'RPG', 'Strategy']</td>\n",
       "    </tr>\n",
       "    <tr>\n",
       "      <th>2</th>\n",
       "      <td>['Free to Play', 'Simulation', 'Sports', 'Casu...</td>\n",
       "      <td>['Casual', 'Free to Play', 'Indie', 'Simulatio...</td>\n",
       "    </tr>\n",
       "    <tr>\n",
       "      <th>3</th>\n",
       "      <td>['Action', 'Adventure', 'Casual']</td>\n",
       "      <td>['Action', 'Adventure', 'Casual']</td>\n",
       "    </tr>\n",
       "    <tr>\n",
       "      <th>4</th>\n",
       "      <td>['Action', 'Adventure', 'Simulation', 'FPS', '...</td>\n",
       "      <td>['Action', 'Adventure', 'Simulation']</td>\n",
       "    </tr>\n",
       "    <tr>\n",
       "      <th>...</th>\n",
       "      <td>...</td>\n",
       "      <td>...</td>\n",
       "    </tr>\n",
       "    <tr>\n",
       "      <th>30079</th>\n",
       "      <td>['Action', 'Indie', 'Casual', 'Violent', 'Adve...</td>\n",
       "      <td>['Action', 'Adventure', 'Casual', 'Indie']</td>\n",
       "    </tr>\n",
       "    <tr>\n",
       "      <th>30080</th>\n",
       "      <td>['Strategy', 'Indie', 'Casual', 'Simulation']</td>\n",
       "      <td>['Casual', 'Indie', 'Simulation', 'Strategy']</td>\n",
       "    </tr>\n",
       "    <tr>\n",
       "      <th>30081</th>\n",
       "      <td>['Strategy', 'Indie', 'Casual']</td>\n",
       "      <td>['Casual', 'Indie', 'Strategy']</td>\n",
       "    </tr>\n",
       "    <tr>\n",
       "      <th>30082</th>\n",
       "      <td>['Indie', 'Simulation', 'Racing']</td>\n",
       "      <td>['Indie', 'Racing', 'Simulation']</td>\n",
       "    </tr>\n",
       "    <tr>\n",
       "      <th>30083</th>\n",
       "      <td>['Indie', 'Casual', 'Puzzle', 'Singleplayer', ...</td>\n",
       "      <td>['Casual', 'Indie']</td>\n",
       "    </tr>\n",
       "  </tbody>\n",
       "</table>\n",
       "<p>30084 rows × 2 columns</p>\n",
       "</div>"
      ],
      "text/plain": [
       "                                                    tags   \n",
       "0      ['Strategy', 'Action', 'Indie', 'Casual', 'Sim...  \\\n",
       "1      ['Free to Play', 'Strategy', 'Indie', 'RPG', '...   \n",
       "2      ['Free to Play', 'Simulation', 'Sports', 'Casu...   \n",
       "3                      ['Action', 'Adventure', 'Casual']   \n",
       "4      ['Action', 'Adventure', 'Simulation', 'FPS', '...   \n",
       "...                                                  ...   \n",
       "30079  ['Action', 'Indie', 'Casual', 'Violent', 'Adve...   \n",
       "30080      ['Strategy', 'Indie', 'Casual', 'Simulation']   \n",
       "30081                    ['Strategy', 'Indie', 'Casual']   \n",
       "30082                  ['Indie', 'Simulation', 'Racing']   \n",
       "30083  ['Indie', 'Casual', 'Puzzle', 'Singleplayer', ...   \n",
       "\n",
       "                                                  genres  \n",
       "0      ['Action', 'Casual', 'Indie', 'Simulation', 'S...  \n",
       "1           ['Free to Play', 'Indie', 'RPG', 'Strategy']  \n",
       "2      ['Casual', 'Free to Play', 'Indie', 'Simulatio...  \n",
       "3                      ['Action', 'Adventure', 'Casual']  \n",
       "4                  ['Action', 'Adventure', 'Simulation']  \n",
       "...                                                  ...  \n",
       "30079         ['Action', 'Adventure', 'Casual', 'Indie']  \n",
       "30080      ['Casual', 'Indie', 'Simulation', 'Strategy']  \n",
       "30081                    ['Casual', 'Indie', 'Strategy']  \n",
       "30082                  ['Indie', 'Racing', 'Simulation']  \n",
       "30083                                ['Casual', 'Indie']  \n",
       "\n",
       "[30084 rows x 2 columns]"
      ]
     },
     "execution_count": 38,
     "metadata": {},
     "output_type": "execute_result"
    }
   ],
   "source": [
    "df_comparativo = df_games[['tags','genres']]\n",
    "df_comparativo"
   ]
  },
  {
   "cell_type": "code",
   "execution_count": 39,
   "metadata": {},
   "outputs": [
    {
     "name": "stderr",
     "output_type": "stream",
     "text": [
      "C:\\Users\\LENOVO IDEAPAD\\AppData\\Local\\Temp\\ipykernel_5556\\4226371087.py:1: SettingWithCopyWarning: \n",
      "A value is trying to be set on a copy of a slice from a DataFrame\n",
      "\n",
      "See the caveats in the documentation: https://pandas.pydata.org/pandas-docs/stable/user_guide/indexing.html#returning-a-view-versus-a-copy\n",
      "  df_comparativo.dropna(inplace=True)\n"
     ]
    }
   ],
   "source": [
    "df_comparativo.dropna(inplace=True)"
   ]
  },
  {
   "cell_type": "markdown",
   "metadata": {},
   "source": [
    "Corregimos el tipo de dato de ambos ya que si bien parecen listas son strings, para esto utilizamos la libreria 'ast'"
   ]
  },
  {
   "cell_type": "code",
   "execution_count": 40,
   "metadata": {},
   "outputs": [
    {
     "name": "stderr",
     "output_type": "stream",
     "text": [
      "C:\\Users\\LENOVO IDEAPAD\\AppData\\Local\\Temp\\ipykernel_5556\\445451866.py:2: SettingWithCopyWarning: \n",
      "A value is trying to be set on a copy of a slice from a DataFrame.\n",
      "Try using .loc[row_indexer,col_indexer] = value instead\n",
      "\n",
      "See the caveats in the documentation: https://pandas.pydata.org/pandas-docs/stable/user_guide/indexing.html#returning-a-view-versus-a-copy\n",
      "  df_comparativo['tags'] = df_comparativo['tags'].apply(lambda x: ast.literal_eval(x))\n",
      "C:\\Users\\LENOVO IDEAPAD\\AppData\\Local\\Temp\\ipykernel_5556\\445451866.py:3: SettingWithCopyWarning: \n",
      "A value is trying to be set on a copy of a slice from a DataFrame.\n",
      "Try using .loc[row_indexer,col_indexer] = value instead\n",
      "\n",
      "See the caveats in the documentation: https://pandas.pydata.org/pandas-docs/stable/user_guide/indexing.html#returning-a-view-versus-a-copy\n",
      "  df_comparativo['genres'] = df_comparativo['genres'].apply(lambda x: ast.literal_eval(x))\n"
     ]
    }
   ],
   "source": [
    "# Convertimos las cadenas de lista a listas reales\n",
    "df_comparativo['tags'] = df_comparativo['tags'].apply(lambda x: ast.literal_eval(x))\n",
    "df_comparativo['genres'] = df_comparativo['genres'].apply(lambda x: ast.literal_eval(x))"
   ]
  },
  {
   "cell_type": "markdown",
   "metadata": {},
   "source": [
    "Veamos un poco la informacion de forma grafica"
   ]
  },
  {
   "cell_type": "code",
   "execution_count": 41,
   "metadata": {},
   "outputs": [
    {
     "data": {
      "image/png": "[encoded data removed]",
      "text/plain": [
       "<Figure size 1200x600 with 1 Axes>"
      ]
     },
     "metadata": {},
     "output_type": "display_data"
    }
   ],
   "source": [
    "import seaborn as sns\n",
    "import matplotlib.pyplot as plt\n",
    "\n",
    "# Contar la frecuencia de cada género\n",
    "genre_counts = df_comparativo['genres'].explode().value_counts()\n",
    "\n",
    "# Crear un gráfico de barras\n",
    "plt.figure(figsize=(12, 6))\n",
    "sns.barplot(x=genre_counts.values, y=genre_counts.index, orient='h')\n",
    "plt.xlabel('Frecuencia')\n",
    "plt.ylabel('Género')\n",
    "plt.title('Distribución de Géneros')\n",
    "plt.show()\n"
   ]
  },
  {
   "cell_type": "code",
   "execution_count": 42,
   "metadata": {},
   "outputs": [
    {
     "data": {
      "image/png": "[encoded data removed]",
      "text/plain": [
       "<Figure size 1200x600 with 1 Axes>"
      ]
     },
     "metadata": {},
     "output_type": "display_data"
    }
   ],
   "source": [
    "tag_counts = df_comparativo['tags'].explode().value_counts()\n",
    "\n",
    "plt.figure(figsize=(12, 6))\n",
    "sns.barplot(x=tag_counts.values[:20], y=tag_counts.index[:20], orient='h')\n",
    "plt.xlabel('Frecuencia')\n",
    "plt.ylabel('Etiqueta')\n",
    "plt.title('Distribución de Etiquetas (Top 20)')\n",
    "plt.show()\n"
   ]
  },
  {
   "cell_type": "markdown",
   "metadata": {},
   "source": [
    "Se puede observar que si bien hay muchos atributos en comun entre ambos, 'tags' contiene muchos mas, lo que nos aporta mayor capacidad de comparacion entre items, para luego encontrar similitudes."
   ]
  },
  {
   "cell_type": "markdown",
   "metadata": {},
   "source": [
    "Veamos un ultimo grafico para comparar cantidad de atributos"
   ]
  },
  {
   "cell_type": "code",
   "execution_count": 48,
   "metadata": {},
   "outputs": [
    {
     "data": {
      "image/png": "[encoded data removed]",
      "text/plain": [
       "<Figure size 1200x600 with 1 Axes>"
      ]
     },
     "metadata": {},
     "output_type": "display_data"
    }
   ],
   "source": [
    "import matplotlib.pyplot as plt\n",
    "# Supongamos que tienes un DataFrame df que contiene las columnas 'genres' y 'tags'\n",
    "\n",
    "# Calcular la frecuencia de cada género en 'genres'\n",
    "genre_counts = df_comparativo['genres'].explode().value_counts()\n",
    "\n",
    "# Calcular la frecuencia de cada etiqueta en 'tags'\n",
    "tag_counts = df_comparativo['tags'].explode().value_counts()\n",
    "\n",
    "# Crear un nuevo DataFrame con los recuentos\n",
    "data = {'Genres': genre_counts, 'Tags': tag_counts}\n",
    "df_counts = pd.DataFrame(data)\n",
    "\n",
    "# Graficar los recuentos en un gráfico de barras apiladas\n",
    "ax = df_counts.plot(kind='bar', stacked=True, figsize=(12, 6))\n",
    "ax.set_xticklabels([])\n",
    "plt.xlabel('Categorías')\n",
    "plt.ylabel('Recuento')\n",
    "plt.title('Comparación de Recuentos entre Géneros y Etiquetas')\n",
    "plt.legend(title='Categoría')\n",
    "\n",
    "plt.show()\n"
   ]
  },
  {
   "cell_type": "markdown",
   "metadata": {},
   "source": [
    "No es una visualizacion adecuada pero refuerza la idea de que es tags quien nos aporta mayor y mejor informacion."
   ]
  },
  {
   "cell_type": "markdown",
   "metadata": {},
   "source": [
    "En todas las comparaciones observamos que 'tags' contiene ademas de los generos otras etiquetas representativas del juego, por lo cual aporta mayor informacion de interes que 'genres'. \n",
    "Ademas, se observa que tags es la que mas registro posee, es decir la que mas juegos abarca de las 2.\n",
    "\n",
    "**En conclusión, seguimos el análisis utilizando sólo la columna de **`tags`** para evaluar las similitudes entre los juegos.**"
   ]
  },
  {
   "cell_type": "markdown",
   "metadata": {},
   "source": [
    "Volviendo a nuestro dataframe"
   ]
  },
  {
   "cell_type": "code",
   "execution_count": 52,
   "metadata": {},
   "outputs": [],
   "source": [
    "# eliminamos genres\n",
    "del(df_games['genres'])"
   ]
  },
  {
   "cell_type": "code",
   "execution_count": 53,
   "metadata": {},
   "outputs": [
    {
     "data": {
      "text/html": [
       "<div>\n",
       "<style scoped>\n",
       "    .dataframe tbody tr th:only-of-type {\n",
       "        vertical-align: middle;\n",
       "    }\n",
       "\n",
       "    .dataframe tbody tr th {\n",
       "        vertical-align: top;\n",
       "    }\n",
       "\n",
       "    .dataframe thead th {\n",
       "        text-align: right;\n",
       "    }\n",
       "</style>\n",
       "<table border=\"1\" class=\"dataframe\">\n",
       "  <thead>\n",
       "    <tr style=\"text-align: right;\">\n",
       "      <th></th>\n",
       "      <th>id</th>\n",
       "      <th>title</th>\n",
       "      <th>tags</th>\n",
       "    </tr>\n",
       "  </thead>\n",
       "  <tbody>\n",
       "    <tr>\n",
       "      <th>0</th>\n",
       "      <td>761140</td>\n",
       "      <td>Lost Summoner Kitty</td>\n",
       "      <td>['Strategy', 'Action', 'Indie', 'Casual', 'Sim...</td>\n",
       "    </tr>\n",
       "    <tr>\n",
       "      <th>1</th>\n",
       "      <td>643980</td>\n",
       "      <td>Ironbound</td>\n",
       "      <td>['Free to Play', 'Strategy', 'Indie', 'RPG', '...</td>\n",
       "    </tr>\n",
       "  </tbody>\n",
       "</table>\n",
       "</div>"
      ],
      "text/plain": [
       "       id                title   \n",
       "0  761140  Lost Summoner Kitty  \\\n",
       "1  643980            Ironbound   \n",
       "\n",
       "                                                tags  \n",
       "0  ['Strategy', 'Action', 'Indie', 'Casual', 'Sim...  \n",
       "1  ['Free to Play', 'Strategy', 'Indie', 'RPG', '...  "
      ]
     },
     "execution_count": 53,
     "metadata": {},
     "output_type": "execute_result"
    }
   ],
   "source": [
    "df_games.head(2)"
   ]
  },
  {
   "cell_type": "code",
   "execution_count": 54,
   "metadata": {},
   "outputs": [],
   "source": [
    "#Eliminamos nulos restantes y corregimos tipo de dato\n",
    "df_games.dropna(inplace=True)\n",
    "df_games['tags'] = df_games['tags'].apply(lambda x: ast.literal_eval(x))"
   ]
  },
  {
   "cell_type": "code",
   "execution_count": 55,
   "metadata": {},
   "outputs": [
    {
     "data": {
      "text/html": [
       "<div>\n",
       "<style scoped>\n",
       "    .dataframe tbody tr th:only-of-type {\n",
       "        vertical-align: middle;\n",
       "    }\n",
       "\n",
       "    .dataframe tbody tr th {\n",
       "        vertical-align: top;\n",
       "    }\n",
       "\n",
       "    .dataframe thead th {\n",
       "        text-align: right;\n",
       "    }\n",
       "</style>\n",
       "<table border=\"1\" class=\"dataframe\">\n",
       "  <thead>\n",
       "    <tr style=\"text-align: right;\">\n",
       "      <th></th>\n",
       "      <th>id</th>\n",
       "      <th>title</th>\n",
       "      <th>tags</th>\n",
       "    </tr>\n",
       "  </thead>\n",
       "  <tbody>\n",
       "    <tr>\n",
       "      <th>0</th>\n",
       "      <td>761140</td>\n",
       "      <td>Lost Summoner Kitty</td>\n",
       "      <td>[Strategy, Action, Indie, Casual, Simulation]</td>\n",
       "    </tr>\n",
       "    <tr>\n",
       "      <th>1</th>\n",
       "      <td>643980</td>\n",
       "      <td>Ironbound</td>\n",
       "      <td>[Free to Play, Strategy, Indie, RPG, Card Game...</td>\n",
       "    </tr>\n",
       "    <tr>\n",
       "      <th>2</th>\n",
       "      <td>670290</td>\n",
       "      <td>Real Pool 3D - Poolians</td>\n",
       "      <td>[Free to Play, Simulation, Sports, Casual, Ind...</td>\n",
       "    </tr>\n",
       "    <tr>\n",
       "      <th>3</th>\n",
       "      <td>767400</td>\n",
       "      <td>弹炸人2222</td>\n",
       "      <td>[Action, Adventure, Casual]</td>\n",
       "    </tr>\n",
       "    <tr>\n",
       "      <th>4</th>\n",
       "      <td>772540</td>\n",
       "      <td>Battle Royale Trainer</td>\n",
       "      <td>[Action, Adventure, Simulation, FPS, Shooter, ...</td>\n",
       "    </tr>\n",
       "    <tr>\n",
       "      <th>...</th>\n",
       "      <td>...</td>\n",
       "      <td>...</td>\n",
       "      <td>...</td>\n",
       "    </tr>\n",
       "    <tr>\n",
       "      <th>30079</th>\n",
       "      <td>745400</td>\n",
       "      <td>Kebab it Up!</td>\n",
       "      <td>[Action, Indie, Casual, Violent, Adventure]</td>\n",
       "    </tr>\n",
       "    <tr>\n",
       "      <th>30080</th>\n",
       "      <td>773640</td>\n",
       "      <td>Colony On Mars</td>\n",
       "      <td>[Strategy, Indie, Casual, Simulation]</td>\n",
       "    </tr>\n",
       "    <tr>\n",
       "      <th>30081</th>\n",
       "      <td>733530</td>\n",
       "      <td>LOGistICAL: South Africa</td>\n",
       "      <td>[Strategy, Indie, Casual]</td>\n",
       "    </tr>\n",
       "    <tr>\n",
       "      <th>30082</th>\n",
       "      <td>610660</td>\n",
       "      <td>Russian Roads</td>\n",
       "      <td>[Indie, Simulation, Racing]</td>\n",
       "    </tr>\n",
       "    <tr>\n",
       "      <th>30083</th>\n",
       "      <td>658870</td>\n",
       "      <td>EXIT 2 - Directions</td>\n",
       "      <td>[Indie, Casual, Puzzle, Singleplayer, Atmosphe...</td>\n",
       "    </tr>\n",
       "  </tbody>\n",
       "</table>\n",
       "<p>29923 rows × 3 columns</p>\n",
       "</div>"
      ],
      "text/plain": [
       "           id                     title   \n",
       "0      761140       Lost Summoner Kitty  \\\n",
       "1      643980                 Ironbound   \n",
       "2      670290   Real Pool 3D - Poolians   \n",
       "3      767400                   弹炸人2222   \n",
       "4      772540     Battle Royale Trainer   \n",
       "...       ...                       ...   \n",
       "30079  745400              Kebab it Up!   \n",
       "30080  773640            Colony On Mars   \n",
       "30081  733530  LOGistICAL: South Africa   \n",
       "30082  610660             Russian Roads   \n",
       "30083  658870       EXIT 2 - Directions   \n",
       "\n",
       "                                                    tags  \n",
       "0          [Strategy, Action, Indie, Casual, Simulation]  \n",
       "1      [Free to Play, Strategy, Indie, RPG, Card Game...  \n",
       "2      [Free to Play, Simulation, Sports, Casual, Ind...  \n",
       "3                            [Action, Adventure, Casual]  \n",
       "4      [Action, Adventure, Simulation, FPS, Shooter, ...  \n",
       "...                                                  ...  \n",
       "30079        [Action, Indie, Casual, Violent, Adventure]  \n",
       "30080              [Strategy, Indie, Casual, Simulation]  \n",
       "30081                          [Strategy, Indie, Casual]  \n",
       "30082                        [Indie, Simulation, Racing]  \n",
       "30083  [Indie, Casual, Puzzle, Singleplayer, Atmosphe...  \n",
       "\n",
       "[29923 rows x 3 columns]"
      ]
     },
     "execution_count": 55,
     "metadata": {},
     "output_type": "execute_result"
    }
   ],
   "source": [
    "df_games"
   ]
  },
  {
   "cell_type": "markdown",
   "metadata": {},
   "source": [
    "**Ahora sí, tenemos un dataframe listo para pasar al modelado**"
   ]
  },
  {
   "cell_type": "markdown",
   "metadata": {},
   "source": [
    "---"
   ]
  },
  {
   "cell_type": "markdown",
   "metadata": {},
   "source": [
    "# Modelado"
   ]
  },
  {
   "cell_type": "markdown",
   "metadata": {},
   "source": [
    "En esta etapa se realizará el modelado con el objetivo de obtener la matriz de similitudes que utilizaremos en nuestra función luego en la API"
   ]
  },
  {
   "cell_type": "markdown",
   "metadata": {},
   "source": [
    "En primer lugar desanidamos los valores dentro de tags para luego codificarlos"
   ]
  },
  {
   "cell_type": "code",
   "execution_count": 56,
   "metadata": {},
   "outputs": [],
   "source": [
    "all_tags = df_games['tags'].explode().tolist()\n"
   ]
  },
  {
   "cell_type": "code",
   "execution_count": 57,
   "metadata": {},
   "outputs": [
    {
     "name": "stdout",
     "output_type": "stream",
     "text": [
      "cantidad de tags unicas: 337\n"
     ]
    }
   ],
   "source": [
    "# Calculamos la cantidad de tags unicas, a tener en cuenta a la hora de codificar\n",
    "all_tags = df_games['tags'].explode().tolist()\n",
    "print('cantidad de tags unicas:', len(list(set(all_tags))))"
   ]
  },
  {
   "cell_type": "markdown",
   "metadata": {},
   "source": [
    "Codificación de los atributos en \"tags\" en valores \"Dummies\""
   ]
  },
  {
   "cell_type": "code",
   "execution_count": 58,
   "metadata": {},
   "outputs": [],
   "source": [
    "# Agregamos un índice temporal para no perderlo y luego reindexar originalmente\n",
    "df_games['index'] = range(len(df_games))\n",
    "\n",
    "# Codificamos los géneros en columnas one-hot\n",
    "df_encoded = pd.get_dummies(df_games['tags'].explode())\n",
    "\n",
    "# Combinamos los datos nuevamente utilizando groupby para eliminar filas duplicadas\n",
    "df_dummies = df_games[['index']].join(df_encoded).groupby('index', as_index=False).max()\n",
    "\n",
    "# Eliminamos el índice temporal\n",
    "df_dummies.drop(columns=['index'], inplace=True)\n",
    "df_games.drop(columns=['index'], inplace=True)\n",
    "\n",
    "# df_dummies ahora contiene la codificación one-hot y mantiene el orden original"
   ]
  },
  {
   "cell_type": "code",
   "execution_count": 59,
   "metadata": {},
   "outputs": [
    {
     "data": {
      "text/html": [
       "<div>\n",
       "<style scoped>\n",
       "    .dataframe tbody tr th:only-of-type {\n",
       "        vertical-align: middle;\n",
       "    }\n",
       "\n",
       "    .dataframe tbody tr th {\n",
       "        vertical-align: top;\n",
       "    }\n",
       "\n",
       "    .dataframe thead th {\n",
       "        text-align: right;\n",
       "    }\n",
       "</style>\n",
       "<table border=\"1\" class=\"dataframe\">\n",
       "  <thead>\n",
       "    <tr style=\"text-align: right;\">\n",
       "      <th></th>\n",
       "      <th>1980s</th>\n",
       "      <th>1990's</th>\n",
       "      <th>2.5D</th>\n",
       "      <th>2D</th>\n",
       "      <th>2D Fighter</th>\n",
       "      <th>3D Platformer</th>\n",
       "      <th>3D Vision</th>\n",
       "      <th>4 Player Local</th>\n",
       "      <th>4X</th>\n",
       "      <th>6DOF</th>\n",
       "      <th>...</th>\n",
       "      <th>Warhammer 40K</th>\n",
       "      <th>Web Publishing</th>\n",
       "      <th>Werewolves</th>\n",
       "      <th>Western</th>\n",
       "      <th>Word Game</th>\n",
       "      <th>World War I</th>\n",
       "      <th>World War II</th>\n",
       "      <th>Wrestling</th>\n",
       "      <th>Zombies</th>\n",
       "      <th>e-sports</th>\n",
       "    </tr>\n",
       "  </thead>\n",
       "  <tbody>\n",
       "    <tr>\n",
       "      <th>0</th>\n",
       "      <td>False</td>\n",
       "      <td>False</td>\n",
       "      <td>False</td>\n",
       "      <td>False</td>\n",
       "      <td>False</td>\n",
       "      <td>False</td>\n",
       "      <td>False</td>\n",
       "      <td>False</td>\n",
       "      <td>False</td>\n",
       "      <td>False</td>\n",
       "      <td>...</td>\n",
       "      <td>False</td>\n",
       "      <td>False</td>\n",
       "      <td>False</td>\n",
       "      <td>False</td>\n",
       "      <td>False</td>\n",
       "      <td>False</td>\n",
       "      <td>False</td>\n",
       "      <td>False</td>\n",
       "      <td>False</td>\n",
       "      <td>False</td>\n",
       "    </tr>\n",
       "    <tr>\n",
       "      <th>1</th>\n",
       "      <td>False</td>\n",
       "      <td>False</td>\n",
       "      <td>False</td>\n",
       "      <td>True</td>\n",
       "      <td>False</td>\n",
       "      <td>False</td>\n",
       "      <td>False</td>\n",
       "      <td>False</td>\n",
       "      <td>False</td>\n",
       "      <td>False</td>\n",
       "      <td>...</td>\n",
       "      <td>False</td>\n",
       "      <td>False</td>\n",
       "      <td>False</td>\n",
       "      <td>False</td>\n",
       "      <td>False</td>\n",
       "      <td>False</td>\n",
       "      <td>False</td>\n",
       "      <td>False</td>\n",
       "      <td>False</td>\n",
       "      <td>False</td>\n",
       "    </tr>\n",
       "    <tr>\n",
       "      <th>2</th>\n",
       "      <td>False</td>\n",
       "      <td>False</td>\n",
       "      <td>False</td>\n",
       "      <td>False</td>\n",
       "      <td>False</td>\n",
       "      <td>False</td>\n",
       "      <td>False</td>\n",
       "      <td>False</td>\n",
       "      <td>False</td>\n",
       "      <td>False</td>\n",
       "      <td>...</td>\n",
       "      <td>False</td>\n",
       "      <td>False</td>\n",
       "      <td>False</td>\n",
       "      <td>False</td>\n",
       "      <td>False</td>\n",
       "      <td>False</td>\n",
       "      <td>False</td>\n",
       "      <td>False</td>\n",
       "      <td>False</td>\n",
       "      <td>False</td>\n",
       "    </tr>\n",
       "  </tbody>\n",
       "</table>\n",
       "<p>3 rows × 337 columns</p>\n",
       "</div>"
      ],
      "text/plain": [
       "   1980s  1990's   2.5D     2D  2D Fighter  3D Platformer  3D Vision   \n",
       "0  False   False  False  False       False          False      False  \\\n",
       "1  False   False  False   True       False          False      False   \n",
       "2  False   False  False  False       False          False      False   \n",
       "\n",
       "   4 Player Local     4X   6DOF  ...  Warhammer 40K  Web Publishing   \n",
       "0           False  False  False  ...          False           False  \\\n",
       "1           False  False  False  ...          False           False   \n",
       "2           False  False  False  ...          False           False   \n",
       "\n",
       "   Werewolves  Western  Word Game  World War I  World War II  Wrestling   \n",
       "0       False    False      False        False         False      False  \\\n",
       "1       False    False      False        False         False      False   \n",
       "2       False    False      False        False         False      False   \n",
       "\n",
       "   Zombies  e-sports  \n",
       "0    False     False  \n",
       "1    False     False  \n",
       "2    False     False  \n",
       "\n",
       "[3 rows x 337 columns]"
      ]
     },
     "execution_count": 59,
     "metadata": {},
     "output_type": "execute_result"
    }
   ],
   "source": [
    "df_dummies.head(3)"
   ]
  },
  {
   "cell_type": "markdown",
   "metadata": {},
   "source": [
    "---"
   ]
  },
  {
   "cell_type": "markdown",
   "metadata": {},
   "source": [
    "Finalmente concatenamos ambos df creados para obtener a partir de este la matriz de similitudes"
   ]
  },
  {
   "cell_type": "code",
   "execution_count": 60,
   "metadata": {},
   "outputs": [
    {
     "data": {
      "text/html": [
       "<div>\n",
       "<style scoped>\n",
       "    .dataframe tbody tr th:only-of-type {\n",
       "        vertical-align: middle;\n",
       "    }\n",
       "\n",
       "    .dataframe tbody tr th {\n",
       "        vertical-align: top;\n",
       "    }\n",
       "\n",
       "    .dataframe thead th {\n",
       "        text-align: right;\n",
       "    }\n",
       "</style>\n",
       "<table border=\"1\" class=\"dataframe\">\n",
       "  <thead>\n",
       "    <tr style=\"text-align: right;\">\n",
       "      <th></th>\n",
       "      <th>id</th>\n",
       "      <th>title</th>\n",
       "      <th>tags</th>\n",
       "      <th>1980s</th>\n",
       "      <th>1990's</th>\n",
       "      <th>2.5D</th>\n",
       "      <th>2D</th>\n",
       "      <th>2D Fighter</th>\n",
       "      <th>3D Platformer</th>\n",
       "      <th>3D Vision</th>\n",
       "      <th>...</th>\n",
       "      <th>Warhammer 40K</th>\n",
       "      <th>Web Publishing</th>\n",
       "      <th>Werewolves</th>\n",
       "      <th>Western</th>\n",
       "      <th>Word Game</th>\n",
       "      <th>World War I</th>\n",
       "      <th>World War II</th>\n",
       "      <th>Wrestling</th>\n",
       "      <th>Zombies</th>\n",
       "      <th>e-sports</th>\n",
       "    </tr>\n",
       "  </thead>\n",
       "  <tbody>\n",
       "    <tr>\n",
       "      <th>0</th>\n",
       "      <td>761140.0</td>\n",
       "      <td>Lost Summoner Kitty</td>\n",
       "      <td>[Strategy, Action, Indie, Casual, Simulation]</td>\n",
       "      <td>False</td>\n",
       "      <td>False</td>\n",
       "      <td>False</td>\n",
       "      <td>False</td>\n",
       "      <td>False</td>\n",
       "      <td>False</td>\n",
       "      <td>False</td>\n",
       "      <td>...</td>\n",
       "      <td>False</td>\n",
       "      <td>False</td>\n",
       "      <td>False</td>\n",
       "      <td>False</td>\n",
       "      <td>False</td>\n",
       "      <td>False</td>\n",
       "      <td>False</td>\n",
       "      <td>False</td>\n",
       "      <td>False</td>\n",
       "      <td>False</td>\n",
       "    </tr>\n",
       "    <tr>\n",
       "      <th>1</th>\n",
       "      <td>643980.0</td>\n",
       "      <td>Ironbound</td>\n",
       "      <td>[Free to Play, Strategy, Indie, RPG, Card Game...</td>\n",
       "      <td>False</td>\n",
       "      <td>False</td>\n",
       "      <td>False</td>\n",
       "      <td>True</td>\n",
       "      <td>False</td>\n",
       "      <td>False</td>\n",
       "      <td>False</td>\n",
       "      <td>...</td>\n",
       "      <td>False</td>\n",
       "      <td>False</td>\n",
       "      <td>False</td>\n",
       "      <td>False</td>\n",
       "      <td>False</td>\n",
       "      <td>False</td>\n",
       "      <td>False</td>\n",
       "      <td>False</td>\n",
       "      <td>False</td>\n",
       "      <td>False</td>\n",
       "    </tr>\n",
       "    <tr>\n",
       "      <th>2</th>\n",
       "      <td>670290.0</td>\n",
       "      <td>Real Pool 3D - Poolians</td>\n",
       "      <td>[Free to Play, Simulation, Sports, Casual, Ind...</td>\n",
       "      <td>False</td>\n",
       "      <td>False</td>\n",
       "      <td>False</td>\n",
       "      <td>False</td>\n",
       "      <td>False</td>\n",
       "      <td>False</td>\n",
       "      <td>False</td>\n",
       "      <td>...</td>\n",
       "      <td>False</td>\n",
       "      <td>False</td>\n",
       "      <td>False</td>\n",
       "      <td>False</td>\n",
       "      <td>False</td>\n",
       "      <td>False</td>\n",
       "      <td>False</td>\n",
       "      <td>False</td>\n",
       "      <td>False</td>\n",
       "      <td>False</td>\n",
       "    </tr>\n",
       "    <tr>\n",
       "      <th>3</th>\n",
       "      <td>767400.0</td>\n",
       "      <td>弹炸人2222</td>\n",
       "      <td>[Action, Adventure, Casual]</td>\n",
       "      <td>False</td>\n",
       "      <td>False</td>\n",
       "      <td>False</td>\n",
       "      <td>False</td>\n",
       "      <td>False</td>\n",
       "      <td>False</td>\n",
       "      <td>False</td>\n",
       "      <td>...</td>\n",
       "      <td>False</td>\n",
       "      <td>False</td>\n",
       "      <td>False</td>\n",
       "      <td>False</td>\n",
       "      <td>False</td>\n",
       "      <td>False</td>\n",
       "      <td>False</td>\n",
       "      <td>False</td>\n",
       "      <td>False</td>\n",
       "      <td>False</td>\n",
       "    </tr>\n",
       "    <tr>\n",
       "      <th>4</th>\n",
       "      <td>772540.0</td>\n",
       "      <td>Battle Royale Trainer</td>\n",
       "      <td>[Action, Adventure, Simulation, FPS, Shooter, ...</td>\n",
       "      <td>False</td>\n",
       "      <td>False</td>\n",
       "      <td>False</td>\n",
       "      <td>False</td>\n",
       "      <td>False</td>\n",
       "      <td>False</td>\n",
       "      <td>False</td>\n",
       "      <td>...</td>\n",
       "      <td>False</td>\n",
       "      <td>False</td>\n",
       "      <td>False</td>\n",
       "      <td>False</td>\n",
       "      <td>False</td>\n",
       "      <td>False</td>\n",
       "      <td>False</td>\n",
       "      <td>False</td>\n",
       "      <td>False</td>\n",
       "      <td>False</td>\n",
       "    </tr>\n",
       "    <tr>\n",
       "      <th>...</th>\n",
       "      <td>...</td>\n",
       "      <td>...</td>\n",
       "      <td>...</td>\n",
       "      <td>...</td>\n",
       "      <td>...</td>\n",
       "      <td>...</td>\n",
       "      <td>...</td>\n",
       "      <td>...</td>\n",
       "      <td>...</td>\n",
       "      <td>...</td>\n",
       "      <td>...</td>\n",
       "      <td>...</td>\n",
       "      <td>...</td>\n",
       "      <td>...</td>\n",
       "      <td>...</td>\n",
       "      <td>...</td>\n",
       "      <td>...</td>\n",
       "      <td>...</td>\n",
       "      <td>...</td>\n",
       "      <td>...</td>\n",
       "      <td>...</td>\n",
       "    </tr>\n",
       "    <tr>\n",
       "      <th>29595</th>\n",
       "      <td>NaN</td>\n",
       "      <td>NaN</td>\n",
       "      <td>NaN</td>\n",
       "      <td>False</td>\n",
       "      <td>False</td>\n",
       "      <td>False</td>\n",
       "      <td>False</td>\n",
       "      <td>False</td>\n",
       "      <td>False</td>\n",
       "      <td>False</td>\n",
       "      <td>...</td>\n",
       "      <td>False</td>\n",
       "      <td>False</td>\n",
       "      <td>False</td>\n",
       "      <td>False</td>\n",
       "      <td>False</td>\n",
       "      <td>False</td>\n",
       "      <td>False</td>\n",
       "      <td>False</td>\n",
       "      <td>True</td>\n",
       "      <td>False</td>\n",
       "    </tr>\n",
       "    <tr>\n",
       "      <th>29597</th>\n",
       "      <td>NaN</td>\n",
       "      <td>NaN</td>\n",
       "      <td>NaN</td>\n",
       "      <td>False</td>\n",
       "      <td>False</td>\n",
       "      <td>False</td>\n",
       "      <td>False</td>\n",
       "      <td>False</td>\n",
       "      <td>False</td>\n",
       "      <td>False</td>\n",
       "      <td>...</td>\n",
       "      <td>False</td>\n",
       "      <td>False</td>\n",
       "      <td>False</td>\n",
       "      <td>False</td>\n",
       "      <td>False</td>\n",
       "      <td>False</td>\n",
       "      <td>False</td>\n",
       "      <td>False</td>\n",
       "      <td>False</td>\n",
       "      <td>False</td>\n",
       "    </tr>\n",
       "    <tr>\n",
       "      <th>29609</th>\n",
       "      <td>NaN</td>\n",
       "      <td>NaN</td>\n",
       "      <td>NaN</td>\n",
       "      <td>False</td>\n",
       "      <td>False</td>\n",
       "      <td>False</td>\n",
       "      <td>False</td>\n",
       "      <td>False</td>\n",
       "      <td>False</td>\n",
       "      <td>False</td>\n",
       "      <td>...</td>\n",
       "      <td>False</td>\n",
       "      <td>False</td>\n",
       "      <td>False</td>\n",
       "      <td>False</td>\n",
       "      <td>False</td>\n",
       "      <td>False</td>\n",
       "      <td>False</td>\n",
       "      <td>False</td>\n",
       "      <td>False</td>\n",
       "      <td>False</td>\n",
       "    </tr>\n",
       "    <tr>\n",
       "      <th>29622</th>\n",
       "      <td>NaN</td>\n",
       "      <td>NaN</td>\n",
       "      <td>NaN</td>\n",
       "      <td>False</td>\n",
       "      <td>False</td>\n",
       "      <td>False</td>\n",
       "      <td>False</td>\n",
       "      <td>False</td>\n",
       "      <td>False</td>\n",
       "      <td>False</td>\n",
       "      <td>...</td>\n",
       "      <td>False</td>\n",
       "      <td>False</td>\n",
       "      <td>False</td>\n",
       "      <td>False</td>\n",
       "      <td>False</td>\n",
       "      <td>False</td>\n",
       "      <td>False</td>\n",
       "      <td>False</td>\n",
       "      <td>False</td>\n",
       "      <td>False</td>\n",
       "    </tr>\n",
       "    <tr>\n",
       "      <th>29778</th>\n",
       "      <td>NaN</td>\n",
       "      <td>NaN</td>\n",
       "      <td>NaN</td>\n",
       "      <td>False</td>\n",
       "      <td>False</td>\n",
       "      <td>False</td>\n",
       "      <td>False</td>\n",
       "      <td>False</td>\n",
       "      <td>False</td>\n",
       "      <td>False</td>\n",
       "      <td>...</td>\n",
       "      <td>False</td>\n",
       "      <td>False</td>\n",
       "      <td>False</td>\n",
       "      <td>False</td>\n",
       "      <td>False</td>\n",
       "      <td>False</td>\n",
       "      <td>False</td>\n",
       "      <td>False</td>\n",
       "      <td>False</td>\n",
       "      <td>False</td>\n",
       "    </tr>\n",
       "  </tbody>\n",
       "</table>\n",
       "<p>30084 rows × 340 columns</p>\n",
       "</div>"
      ],
      "text/plain": [
       "             id                    title   \n",
       "0      761140.0      Lost Summoner Kitty  \\\n",
       "1      643980.0                Ironbound   \n",
       "2      670290.0  Real Pool 3D - Poolians   \n",
       "3      767400.0                  弹炸人2222   \n",
       "4      772540.0    Battle Royale Trainer   \n",
       "...         ...                      ...   \n",
       "29595       NaN                      NaN   \n",
       "29597       NaN                      NaN   \n",
       "29609       NaN                      NaN   \n",
       "29622       NaN                      NaN   \n",
       "29778       NaN                      NaN   \n",
       "\n",
       "                                                    tags  1980s 1990's   2.5D   \n",
       "0          [Strategy, Action, Indie, Casual, Simulation]  False  False  False  \\\n",
       "1      [Free to Play, Strategy, Indie, RPG, Card Game...  False  False  False   \n",
       "2      [Free to Play, Simulation, Sports, Casual, Ind...  False  False  False   \n",
       "3                            [Action, Adventure, Casual]  False  False  False   \n",
       "4      [Action, Adventure, Simulation, FPS, Shooter, ...  False  False  False   \n",
       "...                                                  ...    ...    ...    ...   \n",
       "29595                                                NaN  False  False  False   \n",
       "29597                                                NaN  False  False  False   \n",
       "29609                                                NaN  False  False  False   \n",
       "29622                                                NaN  False  False  False   \n",
       "29778                                                NaN  False  False  False   \n",
       "\n",
       "          2D 2D Fighter 3D Platformer 3D Vision  ... Warhammer 40K   \n",
       "0      False      False         False     False  ...         False  \\\n",
       "1       True      False         False     False  ...         False   \n",
       "2      False      False         False     False  ...         False   \n",
       "3      False      False         False     False  ...         False   \n",
       "4      False      False         False     False  ...         False   \n",
       "...      ...        ...           ...       ...  ...           ...   \n",
       "29595  False      False         False     False  ...         False   \n",
       "29597  False      False         False     False  ...         False   \n",
       "29609  False      False         False     False  ...         False   \n",
       "29622  False      False         False     False  ...         False   \n",
       "29778  False      False         False     False  ...         False   \n",
       "\n",
       "      Web Publishing Werewolves Western Word Game World War I World War II   \n",
       "0              False      False   False     False       False        False  \\\n",
       "1              False      False   False     False       False        False   \n",
       "2              False      False   False     False       False        False   \n",
       "3              False      False   False     False       False        False   \n",
       "4              False      False   False     False       False        False   \n",
       "...              ...        ...     ...       ...         ...          ...   \n",
       "29595          False      False   False     False       False        False   \n",
       "29597          False      False   False     False       False        False   \n",
       "29609          False      False   False     False       False        False   \n",
       "29622          False      False   False     False       False        False   \n",
       "29778          False      False   False     False       False        False   \n",
       "\n",
       "      Wrestling Zombies e-sports  \n",
       "0         False   False    False  \n",
       "1         False   False    False  \n",
       "2         False   False    False  \n",
       "3         False   False    False  \n",
       "4         False   False    False  \n",
       "...         ...     ...      ...  \n",
       "29595     False    True    False  \n",
       "29597     False   False    False  \n",
       "29609     False   False    False  \n",
       "29622     False   False    False  \n",
       "29778     False   False    False  \n",
       "\n",
       "[30084 rows x 340 columns]"
      ]
     },
     "execution_count": 60,
     "metadata": {},
     "output_type": "execute_result"
    }
   ],
   "source": [
    "df_final = pd.concat([df_games, df_dummies],axis = 1)\n",
    "df_final"
   ]
  },
  {
   "cell_type": "code",
   "execution_count": 61,
   "metadata": {},
   "outputs": [
    {
     "data": {
      "text/html": [
       "<div>\n",
       "<style scoped>\n",
       "    .dataframe tbody tr th:only-of-type {\n",
       "        vertical-align: middle;\n",
       "    }\n",
       "\n",
       "    .dataframe tbody tr th {\n",
       "        vertical-align: top;\n",
       "    }\n",
       "\n",
       "    .dataframe thead th {\n",
       "        text-align: right;\n",
       "    }\n",
       "</style>\n",
       "<table border=\"1\" class=\"dataframe\">\n",
       "  <thead>\n",
       "    <tr style=\"text-align: right;\">\n",
       "      <th></th>\n",
       "      <th>id</th>\n",
       "      <th>title</th>\n",
       "      <th>tags</th>\n",
       "      <th>1980s</th>\n",
       "      <th>1990's</th>\n",
       "      <th>2.5D</th>\n",
       "      <th>2D</th>\n",
       "      <th>2D Fighter</th>\n",
       "      <th>3D Platformer</th>\n",
       "      <th>3D Vision</th>\n",
       "      <th>...</th>\n",
       "      <th>Warhammer 40K</th>\n",
       "      <th>Web Publishing</th>\n",
       "      <th>Werewolves</th>\n",
       "      <th>Western</th>\n",
       "      <th>Word Game</th>\n",
       "      <th>World War I</th>\n",
       "      <th>World War II</th>\n",
       "      <th>Wrestling</th>\n",
       "      <th>Zombies</th>\n",
       "      <th>e-sports</th>\n",
       "    </tr>\n",
       "  </thead>\n",
       "  <tbody>\n",
       "    <tr>\n",
       "      <th>30056</th>\n",
       "      <td>10.0</td>\n",
       "      <td>Counter-Strike</td>\n",
       "      <td>[Action, FPS, Multiplayer, Shooter, Classic, T...</td>\n",
       "      <td>NaN</td>\n",
       "      <td>NaN</td>\n",
       "      <td>NaN</td>\n",
       "      <td>NaN</td>\n",
       "      <td>NaN</td>\n",
       "      <td>NaN</td>\n",
       "      <td>NaN</td>\n",
       "      <td>...</td>\n",
       "      <td>NaN</td>\n",
       "      <td>NaN</td>\n",
       "      <td>NaN</td>\n",
       "      <td>NaN</td>\n",
       "      <td>NaN</td>\n",
       "      <td>NaN</td>\n",
       "      <td>NaN</td>\n",
       "      <td>NaN</td>\n",
       "      <td>NaN</td>\n",
       "      <td>NaN</td>\n",
       "    </tr>\n",
       "  </tbody>\n",
       "</table>\n",
       "<p>1 rows × 340 columns</p>\n",
       "</div>"
      ],
      "text/plain": [
       "         id           title   \n",
       "30056  10.0  Counter-Strike  \\\n",
       "\n",
       "                                                    tags 1980s 1990's 2.5D   \n",
       "30056  [Action, FPS, Multiplayer, Shooter, Classic, T...   NaN    NaN  NaN  \\\n",
       "\n",
       "        2D 2D Fighter 3D Platformer 3D Vision  ... Warhammer 40K   \n",
       "30056  NaN        NaN           NaN       NaN  ...           NaN  \\\n",
       "\n",
       "      Web Publishing Werewolves Western Word Game World War I World War II   \n",
       "30056            NaN        NaN     NaN       NaN         NaN          NaN  \\\n",
       "\n",
       "      Wrestling Zombies e-sports  \n",
       "30056       NaN     NaN      NaN  \n",
       "\n",
       "[1 rows x 340 columns]"
      ]
     },
     "execution_count": 61,
     "metadata": {},
     "output_type": "execute_result"
    }
   ],
   "source": [
    "df_final[df_final.id == 10]"
   ]
  },
  {
   "cell_type": "markdown",
   "metadata": {},
   "source": [
    "### *Exportamos el df resultante para luego utilizarlo en el servidor*"
   ]
  },
  {
   "cell_type": "code",
   "execution_count": 53,
   "metadata": {},
   "outputs": [],
   "source": [
    "df_final.to_parquet('df_final_games.parquet')"
   ]
  },
  {
   "cell_type": "markdown",
   "metadata": {},
   "source": [
    "---"
   ]
  },
  {
   "cell_type": "markdown",
   "metadata": {},
   "source": [
    "### Creamos la matriz de similitudes utilizando la libreria sklearn la cual utiliza la *similitud coseno*"
   ]
  },
  {
   "cell_type": "code",
   "execution_count": null,
   "metadata": {},
   "outputs": [],
   "source": [
    "similitudes = cosine_similarity(df_final.iloc[:,3:])"
   ]
  },
  {
   "cell_type": "code",
   "execution_count": 13,
   "metadata": {},
   "outputs": [
    {
     "data": {
      "text/plain": [
       "array([[1.        , 0.10259784, 0.18257419, ..., 0.25819889, 0.        ,\n",
       "        0.        ],\n",
       "       [0.10259784, 1.        , 0.09365858, ..., 0.        , 0.        ,\n",
       "        0.        ],\n",
       "       [0.18257419, 0.09365858, 1.        , ..., 0.        , 0.23570226,\n",
       "        0.        ],\n",
       "       ...,\n",
       "       [0.25819889, 0.        , 0.        , ..., 1.        , 0.        ,\n",
       "        0.        ],\n",
       "       [0.        , 0.        , 0.23570226, ..., 0.        , 1.        ,\n",
       "        0.23570226],\n",
       "       [0.        , 0.        , 0.        , ..., 0.        , 0.23570226,\n",
       "        1.        ]])"
      ]
     },
     "execution_count": 13,
     "metadata": {},
     "output_type": "execute_result"
    }
   ],
   "source": [
    "similitudes"
   ]
  },
  {
   "cell_type": "markdown",
   "metadata": {},
   "source": [
    "---"
   ]
  },
  {
   "cell_type": "markdown",
   "metadata": {},
   "source": [
    "# Función de recomendación"
   ]
  },
  {
   "cell_type": "markdown",
   "metadata": {},
   "source": [
    "Finalmente desarrollamos la función que nos retorne las recomendaciones a partir de un juego de interés"
   ]
  },
  {
   "cell_type": "code",
   "execution_count": 89,
   "metadata": {},
   "outputs": [],
   "source": [
    "def recommend_games(game_id: int):\n",
    "    '''\n",
    "    Esta función recomienda 5 juegos a partir del juego ingresado.\n",
    "\n",
    "    Args:\n",
    "        game_id (int): ID único del videojuego al cual se le harán las recomendaciones.\n",
    "    '''\n",
    "    # Verifica si el juego con game_id existe en df_games\n",
    "    game = df_final[df_final['id'] == game_id]\n",
    "\n",
    "    if game.empty:\n",
    "        raise HTTPException(status_code=404, detail=f\"El juego '{game_id}' no posee registros.\")\n",
    "    \n",
    "    # Obtiene el índice del juego dado\n",
    "    idx = game.index[0]\n",
    "\n",
    "    # Toma una muestra aleatoria del DataFrame df_games\n",
    "    sample_size = 10000  # Define el tamaño de la muestra (ajusta según sea necesario)\n",
    "    df_sample = df_final.sample(n=sample_size, random_state=42)  # Ajusta la semilla aleatoria según sea necesario\n",
    "\n",
    "    # Calcula la similitud de contenido solo para el juego dado y la muestra\n",
    "    sim_scores = cosine_similarity([df_final.iloc[idx, 3:]], df_sample.iloc[:, 3:])\n",
    "\n",
    "    # Obtiene las puntuaciones de similitud del juego dado con otros juegos\n",
    "    sim_scores = sim_scores[0]\n",
    "\n",
    "    # Ordena los juegos por similitud en orden descendente\n",
    "    similar_games = [(i, sim_scores[i]) for i in range(len(sim_scores)) if i != idx]\n",
    "    similar_games = sorted(similar_games, key=lambda x: x[1], reverse=True)\n",
    "\n",
    "    # Obtiene los 5 juegos más similares\n",
    "    similar_game_indices = [i[0] for i in similar_games[:5]]\n",
    "\n",
    "    # Lista de juegos similares (solo nombres)\n",
    "    similar_game_names = df_sample['title'].iloc[similar_game_indices].tolist()\n",
    "\n",
    "    return {\"similar_games\": similar_game_names}\n"
   ]
  },
  {
   "cell_type": "markdown",
   "metadata": {},
   "source": [
    "### Corroboramos los resultados"
   ]
  },
  {
   "cell_type": "code",
   "execution_count": 98,
   "metadata": {},
   "outputs": [
    {
     "data": {
      "text/plain": [
       "{'similar_games': ['Counter-Strike: Condition Zero',\n",
       "  'Counter-Strike: Global Offensive',\n",
       "  \"Tom Clancy's Rainbow Six® Siege - Ultra HD Texture Pack\",\n",
       "  'Day of Defeat',\n",
       "  'Quake Live™']}"
      ]
     },
     "execution_count": 98,
     "metadata": {},
     "output_type": "execute_result"
    }
   ],
   "source": [
    "recommend_games(10)"
   ]
  },
  {
   "cell_type": "code",
   "execution_count": 21,
   "metadata": {},
   "outputs": [
    {
     "data": {
      "text/html": [
       "<div>\n",
       "<style scoped>\n",
       "    .dataframe tbody tr th:only-of-type {\n",
       "        vertical-align: middle;\n",
       "    }\n",
       "\n",
       "    .dataframe tbody tr th {\n",
       "        vertical-align: top;\n",
       "    }\n",
       "\n",
       "    .dataframe thead th {\n",
       "        text-align: right;\n",
       "    }\n",
       "</style>\n",
       "<table border=\"1\" class=\"dataframe\">\n",
       "  <thead>\n",
       "    <tr style=\"text-align: right;\">\n",
       "      <th></th>\n",
       "      <th>id</th>\n",
       "      <th>title</th>\n",
       "      <th>tags</th>\n",
       "    </tr>\n",
       "  </thead>\n",
       "  <tbody>\n",
       "    <tr>\n",
       "      <th>29895</th>\n",
       "      <td>10</td>\n",
       "      <td>Counter-Strike</td>\n",
       "      <td>[Action, FPS, Multiplayer, Shooter, Classic, T...</td>\n",
       "    </tr>\n",
       "  </tbody>\n",
       "</table>\n",
       "</div>"
      ],
      "text/plain": [
       "       id           title                                               tags\n",
       "29895  10  Counter-Strike  [Action, FPS, Multiplayer, Shooter, Classic, T..."
      ]
     },
     "execution_count": 21,
     "metadata": {},
     "output_type": "execute_result"
    }
   ],
   "source": [
    "df_games[df_games.id == 10]"
   ]
  },
  {
   "cell_type": "code",
   "execution_count": 91,
   "metadata": {},
   "outputs": [
    {
     "data": {
      "text/html": [
       "<div>\n",
       "<style scoped>\n",
       "    .dataframe tbody tr th:only-of-type {\n",
       "        vertical-align: middle;\n",
       "    }\n",
       "\n",
       "    .dataframe tbody tr th {\n",
       "        vertical-align: top;\n",
       "    }\n",
       "\n",
       "    .dataframe thead th {\n",
       "        text-align: right;\n",
       "    }\n",
       "</style>\n",
       "<table border=\"1\" class=\"dataframe\">\n",
       "  <thead>\n",
       "    <tr style=\"text-align: right;\">\n",
       "      <th></th>\n",
       "      <th>id</th>\n",
       "      <th>title</th>\n",
       "      <th>tags</th>\n",
       "    </tr>\n",
       "  </thead>\n",
       "  <tbody>\n",
       "    <tr>\n",
       "      <th>29906</th>\n",
       "      <td>80</td>\n",
       "      <td>Counter-Strike: Condition Zero</td>\n",
       "      <td>[Action, FPS, Shooter, Multiplayer, Singleplay...</td>\n",
       "    </tr>\n",
       "  </tbody>\n",
       "</table>\n",
       "</div>"
      ],
      "text/plain": [
       "       id                           title   \n",
       "29906  80  Counter-Strike: Condition Zero  \\\n",
       "\n",
       "                                                    tags  \n",
       "29906  [Action, FPS, Shooter, Multiplayer, Singleplay...  "
      ]
     },
     "execution_count": 91,
     "metadata": {},
     "output_type": "execute_result"
    }
   ],
   "source": [
    "df_games[df_games.title == 'Counter-Strike: Condition Zero']"
   ]
  },
  {
   "cell_type": "code",
   "execution_count": 92,
   "metadata": {},
   "outputs": [
    {
     "data": {
      "text/html": [
       "<div>\n",
       "<style scoped>\n",
       "    .dataframe tbody tr th:only-of-type {\n",
       "        vertical-align: middle;\n",
       "    }\n",
       "\n",
       "    .dataframe tbody tr th {\n",
       "        vertical-align: top;\n",
       "    }\n",
       "\n",
       "    .dataframe thead th {\n",
       "        text-align: right;\n",
       "    }\n",
       "</style>\n",
       "<table border=\"1\" class=\"dataframe\">\n",
       "  <thead>\n",
       "    <tr style=\"text-align: right;\">\n",
       "      <th></th>\n",
       "      <th>id</th>\n",
       "      <th>title</th>\n",
       "      <th>tags</th>\n",
       "    </tr>\n",
       "  </thead>\n",
       "  <tbody>\n",
       "    <tr>\n",
       "      <th>1020</th>\n",
       "      <td>730</td>\n",
       "      <td>Counter-Strike: Global Offensive</td>\n",
       "      <td>[FPS, Multiplayer, Shooter, Action, Team-Based...</td>\n",
       "    </tr>\n",
       "  </tbody>\n",
       "</table>\n",
       "</div>"
      ],
      "text/plain": [
       "       id                             title   \n",
       "1020  730  Counter-Strike: Global Offensive  \\\n",
       "\n",
       "                                                   tags  \n",
       "1020  [FPS, Multiplayer, Shooter, Action, Team-Based...  "
      ]
     },
     "execution_count": 92,
     "metadata": {},
     "output_type": "execute_result"
    }
   ],
   "source": [
    "df_games[df_games.title ==  'Counter-Strike: Global Offensive']"
   ]
  },
  {
   "cell_type": "code",
   "execution_count": 93,
   "metadata": {},
   "outputs": [
    {
     "data": {
      "text/html": [
       "<div>\n",
       "<style scoped>\n",
       "    .dataframe tbody tr th:only-of-type {\n",
       "        vertical-align: middle;\n",
       "    }\n",
       "\n",
       "    .dataframe tbody tr th {\n",
       "        vertical-align: top;\n",
       "    }\n",
       "\n",
       "    .dataframe thead th {\n",
       "        text-align: right;\n",
       "    }\n",
       "</style>\n",
       "<table border=\"1\" class=\"dataframe\">\n",
       "  <thead>\n",
       "    <tr style=\"text-align: right;\">\n",
       "      <th></th>\n",
       "      <th>id</th>\n",
       "      <th>title</th>\n",
       "      <th>tags</th>\n",
       "    </tr>\n",
       "  </thead>\n",
       "  <tbody>\n",
       "    <tr>\n",
       "      <th>4902</th>\n",
       "      <td>377560</td>\n",
       "      <td>Tom Clancy's Rainbow Six® Siege - Ultra HD Tex...</td>\n",
       "      <td>[Action, Multiplayer, FPS, First-Person, Shoot...</td>\n",
       "    </tr>\n",
       "  </tbody>\n",
       "</table>\n",
       "</div>"
      ],
      "text/plain": [
       "          id                                              title   \n",
       "4902  377560  Tom Clancy's Rainbow Six® Siege - Ultra HD Tex...  \\\n",
       "\n",
       "                                                   tags  \n",
       "4902  [Action, Multiplayer, FPS, First-Person, Shoot...  "
      ]
     },
     "execution_count": 93,
     "metadata": {},
     "output_type": "execute_result"
    }
   ],
   "source": [
    "df_games[df_games.title ==  \"Tom Clancy's Rainbow Six® Siege - Ultra HD Texture Pack\"]"
   ]
  },
  {
   "cell_type": "code",
   "execution_count": 96,
   "metadata": {},
   "outputs": [
    {
     "data": {
      "text/html": [
       "<div>\n",
       "<style scoped>\n",
       "    .dataframe tbody tr th:only-of-type {\n",
       "        vertical-align: middle;\n",
       "    }\n",
       "\n",
       "    .dataframe tbody tr th {\n",
       "        vertical-align: top;\n",
       "    }\n",
       "\n",
       "    .dataframe thead th {\n",
       "        text-align: right;\n",
       "    }\n",
       "</style>\n",
       "<table border=\"1\" class=\"dataframe\">\n",
       "  <thead>\n",
       "    <tr style=\"text-align: right;\">\n",
       "      <th></th>\n",
       "      <th>id</th>\n",
       "      <th>title</th>\n",
       "      <th>tags</th>\n",
       "    </tr>\n",
       "  </thead>\n",
       "  <tbody>\n",
       "    <tr>\n",
       "      <th>29903</th>\n",
       "      <td>30</td>\n",
       "      <td>Day of Defeat</td>\n",
       "      <td>[FPS, World War II, Multiplayer, Action, Shoot...</td>\n",
       "    </tr>\n",
       "  </tbody>\n",
       "</table>\n",
       "</div>"
      ],
      "text/plain": [
       "       id          title                                               tags\n",
       "29903  30  Day of Defeat  [FPS, World War II, Multiplayer, Action, Shoot..."
      ]
     },
     "execution_count": 96,
     "metadata": {},
     "output_type": "execute_result"
    }
   ],
   "source": [
    "df_games[df_games.title =='Day of Defeat']"
   ]
  },
  {
   "cell_type": "code",
   "execution_count": 95,
   "metadata": {},
   "outputs": [
    {
     "data": {
      "text/html": [
       "<div>\n",
       "<style scoped>\n",
       "    .dataframe tbody tr th:only-of-type {\n",
       "        vertical-align: middle;\n",
       "    }\n",
       "\n",
       "    .dataframe tbody tr th {\n",
       "        vertical-align: top;\n",
       "    }\n",
       "\n",
       "    .dataframe thead th {\n",
       "        text-align: right;\n",
       "    }\n",
       "</style>\n",
       "<table border=\"1\" class=\"dataframe\">\n",
       "  <thead>\n",
       "    <tr style=\"text-align: right;\">\n",
       "      <th></th>\n",
       "      <th>id</th>\n",
       "      <th>title</th>\n",
       "      <th>tags</th>\n",
       "    </tr>\n",
       "  </thead>\n",
       "  <tbody>\n",
       "    <tr>\n",
       "      <th>26226</th>\n",
       "      <td>282440</td>\n",
       "      <td>Quake Live™</td>\n",
       "      <td>[FPS, Multiplayer, Classic, Arena Shooter, Fas...</td>\n",
       "    </tr>\n",
       "  </tbody>\n",
       "</table>\n",
       "</div>"
      ],
      "text/plain": [
       "           id        title                                               tags\n",
       "26226  282440  Quake Live™  [FPS, Multiplayer, Classic, Arena Shooter, Fas..."
      ]
     },
     "execution_count": 95,
     "metadata": {},
     "output_type": "execute_result"
    }
   ],
   "source": [
    "df_games[df_games.title == 'Quake Live™']"
   ]
  },
  {
   "cell_type": "markdown",
   "metadata": {},
   "source": [
    "---"
   ]
  },
  {
   "cell_type": "markdown",
   "metadata": {},
   "source": [
    "# Conclusión"
   ]
  },
  {
   "cell_type": "markdown",
   "metadata": {},
   "source": [
    "Se creó exitosamente el sistema de recomendación. Se pudo corroborar que los resultados que arroja la función son correctos y devuelve los items con mayor similitud de acuerdo a los atributos extraídos de la columna 'tags'.\n",
    "\n",
    "La función busca ser lo mas óptima posible debido a las limitaciones de render. Sin embargo resulta imposible procesar la matriz de similitudes generada para todo el dataframe resultante, por lo tanto se toma la decisión de utilizar una muestra y no todo el dataframe. Esto se realiza dentro de la función, cada vez que se consulta se crea una muestra aleatoria del df_games_final con el fin de bajar el costo de procesamiento y que se pueda correr sin problemas en el servidor de render. "
   ]
  },
  {
   "cell_type": "markdown",
   "metadata": {},
   "source": [
    "---"
   ]
  }
 ],
 "metadata": {
  "kernelspec": {
   "display_name": "Python 3",
   "language": "python",
   "name": "python3"
  },
  "language_info": {
   "codemirror_mode": {
    "name": "ipython",
    "version": 3
   },
   "file_extension": ".py",
   "mimetype": "text/x-python",
   "name": "python",
   "nbconvert_exporter": "python",
   "pygments_lexer": "ipython3",
   "version": "3.11.3"
  },
  "orig_nbformat": 4
 },
 "nbformat": 4,
 "nbformat_minor": 2
}
